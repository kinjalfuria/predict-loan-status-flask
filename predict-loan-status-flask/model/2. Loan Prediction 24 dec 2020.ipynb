{
 "cells": [
  {
   "cell_type": "code",
   "execution_count": 1,
   "metadata": {},
   "outputs": [],
   "source": [
    "# the below code is for displaying the output from all lines of python code within a single cell\n",
    "from IPython.core.interactiveshell import InteractiveShell\n",
    "InteractiveShell.ast_node_interactivity = \"all\"\n",
    "\n",
    "import pandas as pd # package for data analysis\n",
    "import numpy as np # package for numerical computations\n",
    "\n",
    "# libraries for visualization\n",
    "import seaborn as sns\n",
    "import matplotlib.pyplot as plt\n"
   ]
  },
  {
   "cell_type": "code",
   "execution_count": 2,
   "metadata": {},
   "outputs": [],
   "source": [
    "loan_data  = pd.read_csv(\"https://raw.githubusercontent.com/dphi-official/Datasets/master/Loan_Data/loan_train.csv\" )"
   ]
  },
  {
   "cell_type": "code",
   "execution_count": 3,
   "metadata": {},
   "outputs": [
    {
     "data": {
      "text/html": [
       "<div>\n",
       "<style scoped>\n",
       "    .dataframe tbody tr th:only-of-type {\n",
       "        vertical-align: middle;\n",
       "    }\n",
       "\n",
       "    .dataframe tbody tr th {\n",
       "        vertical-align: top;\n",
       "    }\n",
       "\n",
       "    .dataframe thead th {\n",
       "        text-align: right;\n",
       "    }\n",
       "</style>\n",
       "<table border=\"1\" class=\"dataframe\">\n",
       "  <thead>\n",
       "    <tr style=\"text-align: right;\">\n",
       "      <th></th>\n",
       "      <th>Unnamed: 0</th>\n",
       "      <th>Loan_ID</th>\n",
       "      <th>Gender</th>\n",
       "      <th>Married</th>\n",
       "      <th>Dependents</th>\n",
       "      <th>Education</th>\n",
       "      <th>Self_Employed</th>\n",
       "      <th>ApplicantIncome</th>\n",
       "      <th>CoapplicantIncome</th>\n",
       "      <th>LoanAmount</th>\n",
       "      <th>Loan_Amount_Term</th>\n",
       "      <th>Credit_History</th>\n",
       "      <th>Property_Area</th>\n",
       "      <th>Loan_Status</th>\n",
       "    </tr>\n",
       "  </thead>\n",
       "  <tbody>\n",
       "    <tr>\n",
       "      <th>0</th>\n",
       "      <td>0</td>\n",
       "      <td>LP002305</td>\n",
       "      <td>Female</td>\n",
       "      <td>No</td>\n",
       "      <td>0</td>\n",
       "      <td>Graduate</td>\n",
       "      <td>No</td>\n",
       "      <td>4547</td>\n",
       "      <td>0.0</td>\n",
       "      <td>115.0</td>\n",
       "      <td>360.0</td>\n",
       "      <td>1.0</td>\n",
       "      <td>Semiurban</td>\n",
       "      <td>1</td>\n",
       "    </tr>\n",
       "    <tr>\n",
       "      <th>1</th>\n",
       "      <td>1</td>\n",
       "      <td>LP001715</td>\n",
       "      <td>Male</td>\n",
       "      <td>Yes</td>\n",
       "      <td>3+</td>\n",
       "      <td>Not Graduate</td>\n",
       "      <td>Yes</td>\n",
       "      <td>5703</td>\n",
       "      <td>0.0</td>\n",
       "      <td>130.0</td>\n",
       "      <td>360.0</td>\n",
       "      <td>1.0</td>\n",
       "      <td>Rural</td>\n",
       "      <td>1</td>\n",
       "    </tr>\n",
       "    <tr>\n",
       "      <th>2</th>\n",
       "      <td>2</td>\n",
       "      <td>LP002086</td>\n",
       "      <td>Female</td>\n",
       "      <td>Yes</td>\n",
       "      <td>0</td>\n",
       "      <td>Graduate</td>\n",
       "      <td>No</td>\n",
       "      <td>4333</td>\n",
       "      <td>2451.0</td>\n",
       "      <td>110.0</td>\n",
       "      <td>360.0</td>\n",
       "      <td>1.0</td>\n",
       "      <td>Urban</td>\n",
       "      <td>0</td>\n",
       "    </tr>\n",
       "    <tr>\n",
       "      <th>3</th>\n",
       "      <td>3</td>\n",
       "      <td>LP001136</td>\n",
       "      <td>Male</td>\n",
       "      <td>Yes</td>\n",
       "      <td>0</td>\n",
       "      <td>Not Graduate</td>\n",
       "      <td>Yes</td>\n",
       "      <td>4695</td>\n",
       "      <td>0.0</td>\n",
       "      <td>96.0</td>\n",
       "      <td>NaN</td>\n",
       "      <td>1.0</td>\n",
       "      <td>Urban</td>\n",
       "      <td>1</td>\n",
       "    </tr>\n",
       "    <tr>\n",
       "      <th>4</th>\n",
       "      <td>4</td>\n",
       "      <td>LP002529</td>\n",
       "      <td>Male</td>\n",
       "      <td>Yes</td>\n",
       "      <td>2</td>\n",
       "      <td>Graduate</td>\n",
       "      <td>No</td>\n",
       "      <td>6700</td>\n",
       "      <td>1750.0</td>\n",
       "      <td>230.0</td>\n",
       "      <td>300.0</td>\n",
       "      <td>1.0</td>\n",
       "      <td>Semiurban</td>\n",
       "      <td>1</td>\n",
       "    </tr>\n",
       "  </tbody>\n",
       "</table>\n",
       "</div>"
      ],
      "text/plain": [
       "   Unnamed: 0   Loan_ID  Gender Married Dependents     Education  \\\n",
       "0           0  LP002305  Female      No          0      Graduate   \n",
       "1           1  LP001715    Male     Yes         3+  Not Graduate   \n",
       "2           2  LP002086  Female     Yes          0      Graduate   \n",
       "3           3  LP001136    Male     Yes          0  Not Graduate   \n",
       "4           4  LP002529    Male     Yes          2      Graduate   \n",
       "\n",
       "  Self_Employed  ApplicantIncome  CoapplicantIncome  LoanAmount  \\\n",
       "0            No             4547                0.0       115.0   \n",
       "1           Yes             5703                0.0       130.0   \n",
       "2            No             4333             2451.0       110.0   \n",
       "3           Yes             4695                0.0        96.0   \n",
       "4            No             6700             1750.0       230.0   \n",
       "\n",
       "   Loan_Amount_Term  Credit_History Property_Area  Loan_Status  \n",
       "0             360.0             1.0     Semiurban            1  \n",
       "1             360.0             1.0         Rural            1  \n",
       "2             360.0             1.0         Urban            0  \n",
       "3               NaN             1.0         Urban            1  \n",
       "4             300.0             1.0     Semiurban            1  "
      ]
     },
     "execution_count": 3,
     "metadata": {},
     "output_type": "execute_result"
    }
   ],
   "source": [
    "loan_data.head()"
   ]
  },
  {
   "cell_type": "code",
   "execution_count": 4,
   "metadata": {},
   "outputs": [],
   "source": [
    "loan_data.drop(loan_data.columns[loan_data.columns.str.contains('unnamed',case = False)],axis = 1, inplace = True)"
   ]
  },
  {
   "cell_type": "code",
   "execution_count": 5,
   "metadata": {},
   "outputs": [
    {
     "data": {
      "text/html": [
       "<div>\n",
       "<style scoped>\n",
       "    .dataframe tbody tr th:only-of-type {\n",
       "        vertical-align: middle;\n",
       "    }\n",
       "\n",
       "    .dataframe tbody tr th {\n",
       "        vertical-align: top;\n",
       "    }\n",
       "\n",
       "    .dataframe thead th {\n",
       "        text-align: right;\n",
       "    }\n",
       "</style>\n",
       "<table border=\"1\" class=\"dataframe\">\n",
       "  <thead>\n",
       "    <tr style=\"text-align: right;\">\n",
       "      <th></th>\n",
       "      <th>Loan_ID</th>\n",
       "      <th>Gender</th>\n",
       "      <th>Married</th>\n",
       "      <th>Dependents</th>\n",
       "      <th>Education</th>\n",
       "      <th>Self_Employed</th>\n",
       "      <th>ApplicantIncome</th>\n",
       "      <th>CoapplicantIncome</th>\n",
       "      <th>LoanAmount</th>\n",
       "      <th>Loan_Amount_Term</th>\n",
       "      <th>Credit_History</th>\n",
       "      <th>Property_Area</th>\n",
       "      <th>Loan_Status</th>\n",
       "    </tr>\n",
       "  </thead>\n",
       "  <tbody>\n",
       "    <tr>\n",
       "      <th>0</th>\n",
       "      <td>LP002305</td>\n",
       "      <td>Female</td>\n",
       "      <td>No</td>\n",
       "      <td>0</td>\n",
       "      <td>Graduate</td>\n",
       "      <td>No</td>\n",
       "      <td>4547</td>\n",
       "      <td>0.0</td>\n",
       "      <td>115.0</td>\n",
       "      <td>360.0</td>\n",
       "      <td>1.0</td>\n",
       "      <td>Semiurban</td>\n",
       "      <td>1</td>\n",
       "    </tr>\n",
       "    <tr>\n",
       "      <th>1</th>\n",
       "      <td>LP001715</td>\n",
       "      <td>Male</td>\n",
       "      <td>Yes</td>\n",
       "      <td>3+</td>\n",
       "      <td>Not Graduate</td>\n",
       "      <td>Yes</td>\n",
       "      <td>5703</td>\n",
       "      <td>0.0</td>\n",
       "      <td>130.0</td>\n",
       "      <td>360.0</td>\n",
       "      <td>1.0</td>\n",
       "      <td>Rural</td>\n",
       "      <td>1</td>\n",
       "    </tr>\n",
       "    <tr>\n",
       "      <th>2</th>\n",
       "      <td>LP002086</td>\n",
       "      <td>Female</td>\n",
       "      <td>Yes</td>\n",
       "      <td>0</td>\n",
       "      <td>Graduate</td>\n",
       "      <td>No</td>\n",
       "      <td>4333</td>\n",
       "      <td>2451.0</td>\n",
       "      <td>110.0</td>\n",
       "      <td>360.0</td>\n",
       "      <td>1.0</td>\n",
       "      <td>Urban</td>\n",
       "      <td>0</td>\n",
       "    </tr>\n",
       "    <tr>\n",
       "      <th>3</th>\n",
       "      <td>LP001136</td>\n",
       "      <td>Male</td>\n",
       "      <td>Yes</td>\n",
       "      <td>0</td>\n",
       "      <td>Not Graduate</td>\n",
       "      <td>Yes</td>\n",
       "      <td>4695</td>\n",
       "      <td>0.0</td>\n",
       "      <td>96.0</td>\n",
       "      <td>NaN</td>\n",
       "      <td>1.0</td>\n",
       "      <td>Urban</td>\n",
       "      <td>1</td>\n",
       "    </tr>\n",
       "    <tr>\n",
       "      <th>4</th>\n",
       "      <td>LP002529</td>\n",
       "      <td>Male</td>\n",
       "      <td>Yes</td>\n",
       "      <td>2</td>\n",
       "      <td>Graduate</td>\n",
       "      <td>No</td>\n",
       "      <td>6700</td>\n",
       "      <td>1750.0</td>\n",
       "      <td>230.0</td>\n",
       "      <td>300.0</td>\n",
       "      <td>1.0</td>\n",
       "      <td>Semiurban</td>\n",
       "      <td>1</td>\n",
       "    </tr>\n",
       "  </tbody>\n",
       "</table>\n",
       "</div>"
      ],
      "text/plain": [
       "    Loan_ID  Gender Married Dependents     Education Self_Employed  \\\n",
       "0  LP002305  Female      No          0      Graduate            No   \n",
       "1  LP001715    Male     Yes         3+  Not Graduate           Yes   \n",
       "2  LP002086  Female     Yes          0      Graduate            No   \n",
       "3  LP001136    Male     Yes          0  Not Graduate           Yes   \n",
       "4  LP002529    Male     Yes          2      Graduate            No   \n",
       "\n",
       "   ApplicantIncome  CoapplicantIncome  LoanAmount  Loan_Amount_Term  \\\n",
       "0             4547                0.0       115.0             360.0   \n",
       "1             5703                0.0       130.0             360.0   \n",
       "2             4333             2451.0       110.0             360.0   \n",
       "3             4695                0.0        96.0               NaN   \n",
       "4             6700             1750.0       230.0             300.0   \n",
       "\n",
       "   Credit_History Property_Area  Loan_Status  \n",
       "0             1.0     Semiurban            1  \n",
       "1             1.0         Rural            1  \n",
       "2             1.0         Urban            0  \n",
       "3             1.0         Urban            1  \n",
       "4             1.0     Semiurban            1  "
      ]
     },
     "execution_count": 5,
     "metadata": {},
     "output_type": "execute_result"
    }
   ],
   "source": [
    "loan_data.head()"
   ]
  },
  {
   "cell_type": "code",
   "execution_count": 6,
   "metadata": {},
   "outputs": [
    {
     "data": {
      "text/plain": [
       "(491, 13)"
      ]
     },
     "execution_count": 6,
     "metadata": {},
     "output_type": "execute_result"
    }
   ],
   "source": [
    "loan_data.shape"
   ]
  },
  {
   "cell_type": "code",
   "execution_count": 7,
   "metadata": {},
   "outputs": [
    {
     "data": {
      "text/html": [
       "<div>\n",
       "<style scoped>\n",
       "    .dataframe tbody tr th:only-of-type {\n",
       "        vertical-align: middle;\n",
       "    }\n",
       "\n",
       "    .dataframe tbody tr th {\n",
       "        vertical-align: top;\n",
       "    }\n",
       "\n",
       "    .dataframe thead th {\n",
       "        text-align: right;\n",
       "    }\n",
       "</style>\n",
       "<table border=\"1\" class=\"dataframe\">\n",
       "  <thead>\n",
       "    <tr style=\"text-align: right;\">\n",
       "      <th></th>\n",
       "      <th>ApplicantIncome</th>\n",
       "      <th>CoapplicantIncome</th>\n",
       "      <th>LoanAmount</th>\n",
       "      <th>Loan_Amount_Term</th>\n",
       "      <th>Credit_History</th>\n",
       "      <th>Loan_Status</th>\n",
       "    </tr>\n",
       "  </thead>\n",
       "  <tbody>\n",
       "    <tr>\n",
       "      <th>count</th>\n",
       "      <td>491.000000</td>\n",
       "      <td>491.000000</td>\n",
       "      <td>475.000000</td>\n",
       "      <td>478.000000</td>\n",
       "      <td>448.000000</td>\n",
       "      <td>491.000000</td>\n",
       "    </tr>\n",
       "    <tr>\n",
       "      <th>mean</th>\n",
       "      <td>5401.189409</td>\n",
       "      <td>1589.730998</td>\n",
       "      <td>145.014737</td>\n",
       "      <td>341.297071</td>\n",
       "      <td>0.848214</td>\n",
       "      <td>0.698574</td>\n",
       "    </tr>\n",
       "    <tr>\n",
       "      <th>std</th>\n",
       "      <td>6419.427177</td>\n",
       "      <td>2919.320624</td>\n",
       "      <td>86.310534</td>\n",
       "      <td>66.964051</td>\n",
       "      <td>0.359214</td>\n",
       "      <td>0.459345</td>\n",
       "    </tr>\n",
       "    <tr>\n",
       "      <th>min</th>\n",
       "      <td>150.000000</td>\n",
       "      <td>0.000000</td>\n",
       "      <td>17.000000</td>\n",
       "      <td>12.000000</td>\n",
       "      <td>0.000000</td>\n",
       "      <td>0.000000</td>\n",
       "    </tr>\n",
       "    <tr>\n",
       "      <th>25%</th>\n",
       "      <td>2923.500000</td>\n",
       "      <td>0.000000</td>\n",
       "      <td>100.000000</td>\n",
       "      <td>360.000000</td>\n",
       "      <td>1.000000</td>\n",
       "      <td>0.000000</td>\n",
       "    </tr>\n",
       "    <tr>\n",
       "      <th>50%</th>\n",
       "      <td>3865.000000</td>\n",
       "      <td>1229.000000</td>\n",
       "      <td>126.000000</td>\n",
       "      <td>360.000000</td>\n",
       "      <td>1.000000</td>\n",
       "      <td>1.000000</td>\n",
       "    </tr>\n",
       "    <tr>\n",
       "      <th>75%</th>\n",
       "      <td>5705.500000</td>\n",
       "      <td>2251.500000</td>\n",
       "      <td>162.000000</td>\n",
       "      <td>360.000000</td>\n",
       "      <td>1.000000</td>\n",
       "      <td>1.000000</td>\n",
       "    </tr>\n",
       "    <tr>\n",
       "      <th>max</th>\n",
       "      <td>81000.000000</td>\n",
       "      <td>41667.000000</td>\n",
       "      <td>700.000000</td>\n",
       "      <td>480.000000</td>\n",
       "      <td>1.000000</td>\n",
       "      <td>1.000000</td>\n",
       "    </tr>\n",
       "  </tbody>\n",
       "</table>\n",
       "</div>"
      ],
      "text/plain": [
       "       ApplicantIncome  CoapplicantIncome  LoanAmount  Loan_Amount_Term  \\\n",
       "count       491.000000         491.000000  475.000000        478.000000   \n",
       "mean       5401.189409        1589.730998  145.014737        341.297071   \n",
       "std        6419.427177        2919.320624   86.310534         66.964051   \n",
       "min         150.000000           0.000000   17.000000         12.000000   \n",
       "25%        2923.500000           0.000000  100.000000        360.000000   \n",
       "50%        3865.000000        1229.000000  126.000000        360.000000   \n",
       "75%        5705.500000        2251.500000  162.000000        360.000000   \n",
       "max       81000.000000       41667.000000  700.000000        480.000000   \n",
       "\n",
       "       Credit_History  Loan_Status  \n",
       "count      448.000000   491.000000  \n",
       "mean         0.848214     0.698574  \n",
       "std          0.359214     0.459345  \n",
       "min          0.000000     0.000000  \n",
       "25%          1.000000     0.000000  \n",
       "50%          1.000000     1.000000  \n",
       "75%          1.000000     1.000000  \n",
       "max          1.000000     1.000000  "
      ]
     },
     "execution_count": 7,
     "metadata": {},
     "output_type": "execute_result"
    }
   ],
   "source": [
    "loan_data.describe()"
   ]
  },
  {
   "cell_type": "code",
   "execution_count": 8,
   "metadata": {},
   "outputs": [
    {
     "name": "stdout",
     "output_type": "stream",
     "text": [
      "<class 'pandas.core.frame.DataFrame'>\n",
      "RangeIndex: 491 entries, 0 to 490\n",
      "Data columns (total 13 columns):\n",
      " #   Column             Non-Null Count  Dtype  \n",
      "---  ------             --------------  -----  \n",
      " 0   Loan_ID            491 non-null    object \n",
      " 1   Gender             481 non-null    object \n",
      " 2   Married            490 non-null    object \n",
      " 3   Dependents         482 non-null    object \n",
      " 4   Education          491 non-null    object \n",
      " 5   Self_Employed      462 non-null    object \n",
      " 6   ApplicantIncome    491 non-null    int64  \n",
      " 7   CoapplicantIncome  491 non-null    float64\n",
      " 8   LoanAmount         475 non-null    float64\n",
      " 9   Loan_Amount_Term   478 non-null    float64\n",
      " 10  Credit_History     448 non-null    float64\n",
      " 11  Property_Area      491 non-null    object \n",
      " 12  Loan_Status        491 non-null    int64  \n",
      "dtypes: float64(4), int64(2), object(7)\n",
      "memory usage: 50.0+ KB\n"
     ]
    }
   ],
   "source": [
    "loan_data.info()"
   ]
  },
  {
   "cell_type": "code",
   "execution_count": 9,
   "metadata": {},
   "outputs": [
    {
     "data": {
      "text/plain": [
       "Loan_ID               0\n",
       "Gender               10\n",
       "Married               1\n",
       "Dependents            9\n",
       "Education             0\n",
       "Self_Employed        29\n",
       "ApplicantIncome       0\n",
       "CoapplicantIncome     0\n",
       "LoanAmount           16\n",
       "Loan_Amount_Term     13\n",
       "Credit_History       43\n",
       "Property_Area         0\n",
       "Loan_Status           0\n",
       "dtype: int64"
      ]
     },
     "execution_count": 9,
     "metadata": {},
     "output_type": "execute_result"
    }
   ],
   "source": [
    "loan_data.isna().sum()"
   ]
  },
  {
   "cell_type": "code",
   "execution_count": 10,
   "metadata": {},
   "outputs": [
    {
     "data": {
      "text/plain": [
       "1    343\n",
       "0    148\n",
       "Name: Loan_Status, dtype: int64"
      ]
     },
     "execution_count": 10,
     "metadata": {},
     "output_type": "execute_result"
    }
   ],
   "source": [
    "loan_data.Loan_Status.value_counts()"
   ]
  },
  {
   "cell_type": "code",
   "execution_count": 11,
   "metadata": {},
   "outputs": [
    {
     "data": {
      "text/plain": [
       "<matplotlib.axes._subplots.AxesSubplot at 0x1bdc7102448>"
      ]
     },
     "execution_count": 11,
     "metadata": {},
     "output_type": "execute_result"
    },
    {
     "data": {
      "image/png": "[encoded data removed]",
      "text/plain": [
       "<Figure size 432x288 with 1 Axes>"
      ]
     },
     "metadata": {
      "needs_background": "light"
     },
     "output_type": "display_data"
    }
   ],
   "source": [
    "loan_data.Loan_Status.value_counts().plot(kind=\"bar\", color=[\"salmon\", \"lightblue\"])"
   ]
  },
  {
   "cell_type": "code",
   "execution_count": 12,
   "metadata": {},
   "outputs": [],
   "source": [
    "loan_data = loan_data.drop(columns=['Loan_ID']) ## Dropping Loan ID\n",
    "\n"
   ]
  },
  {
   "cell_type": "code",
   "execution_count": 13,
   "metadata": {},
   "outputs": [
    {
     "name": "stdout",
     "output_type": "stream",
     "text": [
      "==============================\n",
      "Gender : ['Female' 'Male' nan]\n",
      "==============================\n",
      "Married : ['No' 'Yes' nan]\n",
      "==============================\n",
      "Dependents : ['0' '3+' '2' '1' nan]\n",
      "==============================\n",
      "Education : ['Graduate' 'Not Graduate']\n",
      "==============================\n",
      "Self_Employed : ['No' 'Yes' nan]\n",
      "==============================\n",
      "ApplicantIncome : [ 4547  5703  4333  4695  6700  4344  6000  5285 14683  3200  2045  3523\n",
      "  3667 11757  5417  6500  3159  6250 12841 14880  2425  3875  2620  6045\n",
      "  4600  8333  4755  4230  2346  2699  3400  5568  2882  4166  2720  1782\n",
      " 11500  3988  3717  9323  3993  4758  4124  6283  3572 10750  1625  3762\n",
      "  3250  7200  5819  3707  3588  2987  3000  7578  5000 51763  3417  2333\n",
      "  4583  3539 10000  3237  6875  3750  3015  8750  6325  3254  4133  2239\n",
      "  4467  4692  8000  8334  3917  6256  1809  2479  4887  5167  2577  5500\n",
      "  4707  4300  3459  6417  3867  2221 39147 10833  2309  3927  5695  4691\n",
      "  4009 13262  4180  5726  3992  1958  9538  3358  4095  3189  4106  3497\n",
      "  5166  5708  5821  2895  3596 10139 10416  3100  4301  3583  4625  5667\n",
      "  2130  3167  2799  4350  2550  3087  2583  9167  9963  5516  3208  2383\n",
      "  2058  2917  2014  3166  2138  5849  5391  5333  3095  3418  3333  2165\n",
      "  3617  4945 19484  5649  3052 16667  4680  2764  3273  3463  2526  2666\n",
      "  3158 12500  2876  5532  5941  2927  6333  3155  4226 14583  3173  2083\n",
      "  4000  3466  5124  2507  8072  3326  2214  3975 16666 20233  1928  4200\n",
      "  2500  5191  2894  3481  2192  5818  3716  4283  6400  6216  7901  2653\n",
      "  1800  2281  4708  3244  9083  4606  9560  5050  3315  2499  3652 11000\n",
      "  8624  2378  3086  2366  4310  5042  5468 18333  4843  3900  4931  7948\n",
      "  2750  2947  1963  3500  3013 20166  1863  2929  1442  3036  2253 20833\n",
      "  3283  7085  4865  5316  3366  6033  2769  2600  4188  3229  3727  3859\n",
      "  4616  5266  1926  1025  5116  9703  1875  8566 15000   416  3620  8300\n",
      "  8666  6065  5677  2718  3075  3430  1668  3180  3340  9328   645  1378\n",
      "  2833  2423  6406  2400  2900  4354  3069  3083  7740  4554  5185  4281\n",
      "  3800  6083  1977  4652  7667  2237  2889  3941  3598  2787  3410  3416\n",
      "  5250  3276  1907  2491  2965  3948  1880  1500  2137  6822  6277  6633\n",
      "  3510  3987  4167  2920  2768   150  7142  3813  7333  5923 23803  4408\n",
      "  5955  3246  3522  2275  2483  4860  2935  5746  3865  6783  3033  3850\n",
      "  2330 63337  2071  1993  7441  4100  4160 39999  4288 17500  1299 20667\n",
      "  6540  1000  3675  2213  5800  3357  3814  7250  2492  4342  7933  5503\n",
      "  2301  4750 16692  3625 11250  6050  5829  3062  4723  4666 37719  6782\n",
      "  6383  1916 16120  4191  3691  4384  1820  4416  3887  2000 81000  4917\n",
      "  2647 10513 11417  3406  2875  4950  2698  3399  3858  6080  3316  2178\n",
      "  1830  2149   674  3232  3089  7167  2980  2873  2435 14866  3182  4895\n",
      "  3103  2297  2031  3010  3704  4006  1538  3660  9833  3812  1836  2785]\n",
      "==============================\n",
      "CoapplicantIncome : [0.00000000e+00 2.45100000e+03 1.75000000e+03 7.36000000e+02\n",
      " 2.25000000e+03 1.43000000e+03 2.10000000e+03 2.25400000e+03\n",
      " 1.61900000e+03 3.23000000e+03 1.45900000e+03 4.19600000e+03\n",
      " 4.61000000e+02 5.65400000e+03 1.09680000e+04 2.34000000e+03\n",
      " 2.22300000e+03 1.60000000e+03 2.78500000e+03 2.50000000e+03\n",
      " 2.14200000e+03 1.84300000e+03 2.23200000e+03 2.92500000e+03\n",
      " 7.87300000e+03 3.27400000e+03 4.41600000e+03 4.11400000e+03\n",
      " 1.80300000e+03 1.66600000e+03 1.69500000e+03 5.00000000e+03\n",
      " 3.16600000e+03 1.01000000e+03 1.45100000e+03 1.50800000e+03\n",
      " 1.37600000e+03 2.18800000e+03 4.16700000e+03 2.52400000e+03\n",
      " 1.86800000e+03 3.01300000e+03 3.16700000e+03 3.75000000e+03\n",
      " 1.99300000e+03 4.75000000e+03 1.25500000e+03 8.00000000e+02\n",
      " 2.08300000e+03 1.71700000e+03 2.30600000e+03 4.59500000e+03\n",
      " 2.43600000e+03 3.44700000e+03 2.59800000e+03 1.96400000e+03\n",
      " 5.62500000e+03 3.36900000e+03 1.40000000e+03 2.85700000e+03\n",
      " 2.66700000e+03 6.66600000e+03 2.25300000e+03 2.04200000e+03\n",
      " 2.21000000e+03 2.16700000e+03 1.13000000e+04 3.06600000e+03\n",
      " 3.33400000e+03 2.13400000e+03 5.36000000e+02 1.92900000e+03\n",
      " 2.06400000e+03 1.26000000e+03 1.13100000e+03 1.30000000e+03\n",
      " 1.03000000e+03 2.08700000e+03 4.00000000e+03 1.82000000e+03\n",
      " 1.78300000e+03 4.30000000e+03 3.05300000e+03 3.00000000e+03\n",
      " 1.56000000e+03 4.64800000e+03 4.23200000e+03 2.40500000e+03\n",
      " 4.58300000e+03 1.77900000e+03 1.04000000e+03 3.02100000e+03\n",
      " 3.15000000e+03 1.51600000e+03 1.21000000e+03 2.40000000e+02\n",
      " 9.13000000e+02 1.39800000e+03 3.42800000e+03 2.53100000e+03\n",
      " 2.11500000e+03 2.28300000e+03 1.64400000e+03 4.60000000e+03\n",
      " 2.79200000e+03 1.74200000e+03 2.16000000e+03 2.38300000e+03\n",
      " 1.83300000e+03 1.50000000e+03 7.00000000e+02 1.21300000e+03\n",
      " 1.38700000e+03 1.81100000e+03 2.54100000e+03 2.45800000e+03\n",
      " 2.41700000e+03 1.03200000e+03 3.80600000e+03 4.08300000e+03\n",
      " 7.16600000e+03 1.84200000e+03 1.60300000e+03 1.08300000e+03\n",
      " 3.03300000e+03 3.41600000e+03 2.13800000e+03 1.04100000e+03\n",
      " 2.33300000e+03 2.50400000e+03 2.03300000e+03 6.66700000e+03\n",
      " 2.03500000e+03 5.62400000e+03 2.20000000e+03 1.54200000e+03\n",
      " 3.50000000e+03 2.73900000e+03 1.77500000e+03 1.77400000e+03\n",
      " 3.30000000e+03 1.85100000e+03 2.77300000e+03 1.87500000e+03\n",
      " 4.16670000e+04 4.98300000e+03 2.00400000e+03 1.42400000e+03\n",
      " 2.41600000e+03 1.25000000e+03 3.89000000e+03 1.71000000e+03\n",
      " 3.68300000e+03 1.88100000e+03 1.85700000e+03 5.05000000e+02\n",
      " 1.22900000e+03 3.60000000e+03 4.25000000e+03 9.97000000e+02\n",
      " 2.33600000e+03 1.28700000e+03 1.91700000e+03 2.81600000e+03\n",
      " 2.00000000e+03 6.88000000e+02 1.66400000e+03 4.84000000e+02\n",
      " 2.36500000e+03 2.05400000e+03 5.70100000e+03 3.58300000e+03\n",
      " 1.45600000e+03 1.73300000e+03 1.80000000e+03 8.98000000e+03\n",
      " 1.41100000e+03 1.44700000e+03 1.61200008e+01 1.95000000e+03\n",
      " 8.33300000e+03 1.41700000e+03 2.06700000e+03 2.46600000e+03\n",
      " 8.30000000e+02 1.64000000e+03 9.83000000e+02 4.48600000e+03\n",
      " 7.54000000e+02 1.62500000e+03 2.01400000e+03 3.26300000e+03\n",
      " 1.08600000e+03 3.02200000e+03 2.42000000e+02 2.85900000e+03\n",
      " 7.21000000e+03 1.48300000e+03 1.66700000e+03 2.37500000e+03\n",
      " 1.89000000e+02 4.49000000e+03 9.85799988e+02 4.33300000e+03\n",
      " 1.98700000e+03 1.00000000e+03 5.06300000e+03 3.25000000e+03\n",
      " 1.84000000e+03 1.79300000e+03 1.76900000e+03 5.50000000e+03\n",
      " 2.66900000e+03 2.16800000e+03 2.35800000e+03 1.58700000e+03\n",
      " 3.85000000e+03 2.11800000e+03 1.12600000e+03 4.41700000e+03\n",
      " 1.71900000e+03 2.03400000e+03 2.56900000e+03 3.80000000e+03\n",
      " 7.25000000e+03 3.23700000e+03 5.29600000e+03 1.28000000e+03\n",
      " 1.87200000e+03 2.91700000e+03 1.52200000e+03 1.63200000e+03\n",
      " 2.27500000e+03 3.13600000e+03 1.52600000e+03 1.42500000e+03\n",
      " 5.06400000e+03 3.38370000e+04 2.01600000e+03]\n",
      "==============================\n",
      "LoanAmount : [115. 130. 110.  96. 230.  87. 265. 161. 304. 126. 101. 152. 144. 187.\n",
      " 267. 105. 108. 188. 349. 143.  67. 150.  73. 280.  95. 112. 132. 173.\n",
      " 175. 123.  98.  80. 107. 286.  50. 151. 380. 207. 158. 209. 128. 312.\n",
      " 135. 210. 170. 120. 182.  88.  66. 103. 700. 186. 102.  55. 155.  30.\n",
      " 200. 113. 153. 308. 122. 106. 160. 124.  90. 133. 148. 136.  25. 157.\n",
      "  62.  60. 234. 205. 125. 100. 116.  40. 258.  nan 131.  75. 260. 201.\n",
      " 140. 118. 111. 180.  70.  74. 154. 104. 185. 495. 172.  99.  36. 127.\n",
      " 600.  44.  86.  81. 145. 121.  89. 320. 162. 296. 259. 436. 137.  56.\n",
      " 253.  85. 275. 480. 129. 176.  45. 184.  42.  47. 228.  84. 191.  83.\n",
      " 214.  46.  26. 500.  53.  58. 650. 139.  35. 208. 156. 190. 134. 142.\n",
      " 165.  97.  72. 300. 350. 376. 250.  71. 167. 255. 216. 330.  63. 146.\n",
      " 168. 246. 225. 149.  61. 141.  76. 138. 211. 370. 315. 490.  94. 194.\n",
      " 400.  17.  93.  78. 196. 109. 117. 360. 178.]\n",
      "==============================\n",
      "Loan_Amount_Term : [360.  nan 300. 180.  84. 480. 240. 120.  36.  12.  60.]\n",
      "==============================\n",
      "Credit_History : [ 1. nan  0.]\n",
      "==============================\n",
      "Property_Area : ['Semiurban' 'Rural' 'Urban']\n",
      "==============================\n",
      "Loan_Status : [1 0]\n"
     ]
    }
   ],
   "source": [
    "categorical_col = []\n",
    "continous_col = []\n",
    "for column in loan_data.columns:\n",
    "    print('==============================')\n",
    "    print(f\"{column} : {loan_data[column].unique()}\")\n",
    "    if len(loan_data[column].unique()) <= 15:\n",
    "        categorical_col.append(column)\n",
    "    else:\n",
    "        continous_col.append(column)"
   ]
  },
  {
   "cell_type": "code",
   "execution_count": 14,
   "metadata": {},
   "outputs": [
    {
     "data": {
      "text/plain": [
       "['Gender',\n",
       " 'Married',\n",
       " 'Dependents',\n",
       " 'Education',\n",
       " 'Self_Employed',\n",
       " 'Loan_Amount_Term',\n",
       " 'Credit_History',\n",
       " 'Property_Area',\n",
       " 'Loan_Status']"
      ]
     },
     "execution_count": 14,
     "metadata": {},
     "output_type": "execute_result"
    }
   ],
   "source": [
    "categorical_col"
   ]
  },
  {
   "cell_type": "code",
   "execution_count": 15,
   "metadata": {},
   "outputs": [
    {
     "data": {
      "text/plain": [
       "['ApplicantIncome', 'CoapplicantIncome', 'LoanAmount']"
      ]
     },
     "execution_count": 15,
     "metadata": {},
     "output_type": "execute_result"
    }
   ],
   "source": [
    "continous_col"
   ]
  },
  {
   "cell_type": "code",
   "execution_count": 16,
   "metadata": {},
   "outputs": [],
   "source": [
    "loan_data[\"Gender\"].fillna(loan_data[\"Gender\"].mode()[0],inplace=True)\n",
    "loan_data[\"Married\"].fillna(loan_data[\"Married\"].mode()[0],inplace=True)\n",
    "loan_data['Dependents'].fillna(loan_data[\"Dependents\"].mode()[0],inplace=True)\n",
    "loan_data[\"Self_Employed\"].fillna(loan_data[\"Self_Employed\"].mode()[0],inplace=True)\n",
    "loan_data[\"Credit_History\"].fillna(loan_data[\"Credit_History\"].mode()[0],inplace=True)"
   ]
  },
  {
   "cell_type": "code",
   "execution_count": 17,
   "metadata": {},
   "outputs": [
    {
     "data": {
      "text/plain": [
       "Gender                0\n",
       "Married               0\n",
       "Dependents            0\n",
       "Education             0\n",
       "Self_Employed         0\n",
       "ApplicantIncome       0\n",
       "CoapplicantIncome     0\n",
       "LoanAmount           16\n",
       "Loan_Amount_Term     13\n",
       "Credit_History        0\n",
       "Property_Area         0\n",
       "Loan_Status           0\n",
       "dtype: int64"
      ]
     },
     "execution_count": 17,
     "metadata": {},
     "output_type": "execute_result"
    }
   ],
   "source": [
    "loan_data.isna().sum()"
   ]
  },
  {
   "cell_type": "code",
   "execution_count": 18,
   "metadata": {},
   "outputs": [
    {
     "data": {
      "text/plain": [
       "360.0    404\n",
       "180.0     35\n",
       "480.0     13\n",
       "300.0     12\n",
       "84.0       4\n",
       "120.0      3\n",
       "240.0      3\n",
       "36.0       2\n",
       "60.0       1\n",
       "12.0       1\n",
       "Name: Loan_Amount_Term, dtype: int64"
      ]
     },
     "execution_count": 18,
     "metadata": {},
     "output_type": "execute_result"
    }
   ],
   "source": [
    "loan_data[\"Loan_Amount_Term\"].value_counts()"
   ]
  },
  {
   "cell_type": "code",
   "execution_count": 19,
   "metadata": {},
   "outputs": [],
   "source": [
    "loan_data[\"Loan_Amount_Term\"].fillna(loan_data[\"Loan_Amount_Term\"].mode()[0],inplace=True)"
   ]
  },
  {
   "cell_type": "code",
   "execution_count": 20,
   "metadata": {},
   "outputs": [],
   "source": [
    "loan_data[\"LoanAmount\"].fillna(loan_data[\"LoanAmount\"].median(),inplace=True)"
   ]
  },
  {
   "cell_type": "code",
   "execution_count": null,
   "metadata": {},
   "outputs": [],
   "source": []
  },
  {
   "cell_type": "code",
   "execution_count": 21,
   "metadata": {},
   "outputs": [
    {
     "data": {
      "text/plain": [
       "Gender               0\n",
       "Married              0\n",
       "Dependents           0\n",
       "Education            0\n",
       "Self_Employed        0\n",
       "ApplicantIncome      0\n",
       "CoapplicantIncome    0\n",
       "LoanAmount           0\n",
       "Loan_Amount_Term     0\n",
       "Credit_History       0\n",
       "Property_Area        0\n",
       "Loan_Status          0\n",
       "dtype: int64"
      ]
     },
     "execution_count": 21,
     "metadata": {},
     "output_type": "execute_result"
    }
   ],
   "source": [
    "loan_data.isnull().sum()"
   ]
  },
  {
   "cell_type": "code",
   "execution_count": 22,
   "metadata": {},
   "outputs": [
    {
     "data": {
      "text/plain": [
       "<matplotlib.axes._subplots.AxesSubplot at 0x1bdc8eb7308>"
      ]
     },
     "execution_count": 22,
     "metadata": {},
     "output_type": "execute_result"
    },
    {
     "data": {
      "text/plain": [
       "<matplotlib.axes._subplots.AxesSubplot at 0x1bdc8ee79c8>"
      ]
     },
     "execution_count": 22,
     "metadata": {},
     "output_type": "execute_result"
    },
    {
     "data": {
      "text/plain": [
       "<matplotlib.axes._subplots.AxesSubplot at 0x1bdc8f1fe48>"
      ]
     },
     "execution_count": 22,
     "metadata": {},
     "output_type": "execute_result"
    },
    {
     "name": "stdout",
     "output_type": "stream",
     "text": [
      "       ApplicantIncome  CoapplicantIncome  LoanAmount\n",
      "count       491.000000         491.000000  491.000000\n",
      "mean       5401.189409        1589.730998  144.395112\n",
      "std        6419.427177        2919.320624   84.956932\n",
      "min         150.000000           0.000000   17.000000\n",
      "25%        2923.500000           0.000000  100.000000\n",
      "50%        3865.000000        1229.000000  126.000000\n",
      "75%        5705.500000        2251.500000  160.000000\n",
      "max       81000.000000       41667.000000  700.000000\n"
     ]
    },
    {
     "data": {
      "image/png": "[encoded data removed]",
      "text/plain": [
       "<Figure size 1224x360 with 3 Axes>"
      ]
     },
     "metadata": {
      "needs_background": "light"
     },
     "output_type": "display_data"
    }
   ],
   "source": [
    "fig,axes = plt.subplots(1,3,figsize=(17,5))\n",
    "for idx,cat_col in enumerate(continous_col):\n",
    "    sns.boxplot(y=cat_col,data=loan_data,x='Loan_Status',ax=axes[idx])\n",
    "\n",
    "print(loan_data[continous_col].describe())\n",
    "plt.subplots_adjust(hspace=1)"
   ]
  },
  {
   "cell_type": "code",
   "execution_count": 23,
   "metadata": {},
   "outputs": [
    {
     "data": {
      "text/plain": [
       "(6.5, -0.5)"
      ]
     },
     "execution_count": 23,
     "metadata": {},
     "output_type": "execute_result"
    },
    {
     "data": {
      "image/png": "[encoded data removed]",
      "text/plain": [
       "<Figure size 1080x1080 with 2 Axes>"
      ]
     },
     "metadata": {
      "needs_background": "light"
     },
     "output_type": "display_data"
    }
   ],
   "source": [
    "# Let's make our correlation matrix a little prettier\n",
    "corr_matrix = loan_data.corr()\n",
    "fig, ax = plt.subplots(figsize=(15, 15))\n",
    "ax = sns.heatmap(corr_matrix,\n",
    "                 annot=True,\n",
    "                 linewidths=0.5,\n",
    "                 fmt=\".2f\",\n",
    "                 cmap=\"YlGnBu\");\n",
    "bottom, top = ax.get_ylim()\n",
    "ax.set_ylim(bottom + 0.5, top - 0.5)"
   ]
  },
  {
   "cell_type": "code",
   "execution_count": 24,
   "metadata": {},
   "outputs": [
    {
     "data": {
      "text/plain": [
       "<matplotlib.axes._subplots.AxesSubplot at 0x1bdc9168248>"
      ]
     },
     "execution_count": 24,
     "metadata": {},
     "output_type": "execute_result"
    },
    {
     "data": {
      "image/png": "[encoded data removed]",
      "text/plain": [
       "<Figure size 864x576 with 1 Axes>"
      ]
     },
     "metadata": {
      "needs_background": "light"
     },
     "output_type": "display_data"
    }
   ],
   "source": [
    "loan_data.drop('Loan_Status', axis=1).corrwith(loan_data.Loan_Status).plot(kind='bar', grid=True, figsize=(12, 8), \n",
    "                                                   title=\"Correlation with Loan_Status\")"
   ]
  },
  {
   "cell_type": "code",
   "execution_count": 25,
   "metadata": {},
   "outputs": [
    {
     "data": {
      "text/plain": [
       "['Gender',\n",
       " 'Married',\n",
       " 'Dependents',\n",
       " 'Education',\n",
       " 'Self_Employed',\n",
       " 'Loan_Amount_Term',\n",
       " 'Credit_History',\n",
       " 'Property_Area',\n",
       " 'Loan_Status']"
      ]
     },
     "execution_count": 25,
     "metadata": {},
     "output_type": "execute_result"
    }
   ],
   "source": [
    "categorical_col"
   ]
  },
  {
   "cell_type": "code",
   "execution_count": 26,
   "metadata": {},
   "outputs": [],
   "source": [
    "categorical_col.remove('Loan_Status')\n",
    "\n",
    "loan_data_dummy = pd.get_dummies(loan_data, columns = categorical_col)"
   ]
  },
  {
   "cell_type": "code",
   "execution_count": 27,
   "metadata": {},
   "outputs": [],
   "source": [
    "X = loan_data_dummy.drop(columns='Loan_Status')\n",
    "y = loan_data_dummy['Loan_Status']"
   ]
  },
  {
   "cell_type": "code",
   "execution_count": 28,
   "metadata": {},
   "outputs": [
    {
     "data": {
      "text/plain": [
       "(491, 30)"
      ]
     },
     "execution_count": 28,
     "metadata": {},
     "output_type": "execute_result"
    }
   ],
   "source": [
    "X.shape"
   ]
  },
  {
   "cell_type": "code",
   "execution_count": 29,
   "metadata": {},
   "outputs": [],
   "source": [
    "from sklearn.model_selection import train_test_split\n",
    "X_train,X_test,y_train,y_test = train_test_split(X,y,test_size=0.2,stratify =y,random_state =42)"
   ]
  },
  {
   "cell_type": "code",
   "execution_count": 30,
   "metadata": {},
   "outputs": [],
   "source": [
    "from sklearn.impute import SimpleImputer\n",
    "imp = SimpleImputer(strategy='mean')\n",
    "imp_train = imp.fit(X_train)\n",
    "X_train = imp_train.transform(X_train)\n",
    "X_test = imp_train.transform(X_test)\n"
   ]
  },
  {
   "cell_type": "code",
   "execution_count": 31,
   "metadata": {},
   "outputs": [],
   "source": [
    "from sklearn.metrics import accuracy_score, confusion_matrix, classification_report\n",
    "\n",
    "def print_score(clf, X_train, y_train, X_test, y_test, train=True):\n",
    "    if train:\n",
    "        pred = clf.predict(X_train)\n",
    "        clf_report = pd.DataFrame(classification_report(y_train, pred, output_dict=True))\n",
    "        print(\"Train Result:\\n================================================\")\n",
    "        print(f\"Accuracy Score: {accuracy_score(y_train, pred) * 100:.2f}%\")\n",
    "        print(\"_______________________________________________\")\n",
    "        print(f\"CLASSIFICATION REPORT:\\n{clf_report}\")\n",
    "        print(\"_______________________________________________\")\n",
    "        print(f\"Confusion Matrix: \\n {confusion_matrix(y_train, pred)}\\n\")\n",
    "        \n",
    "    elif train==False:\n",
    "        pred = clf.predict(X_test)\n",
    "        clf_report = pd.DataFrame(classification_report(y_test, pred, output_dict=True))\n",
    "        print(\"Test Result:\\n================================================\")        \n",
    "        print(f\"Accuracy Score: {accuracy_score(y_test, pred) * 100:.2f}%\")\n",
    "        print(\"_______________________________________________\")\n",
    "        print(f\"CLASSIFICATION REPORT:\\n{clf_report}\")\n",
    "        print(\"_______________________________________________\")\n",
    "        print(f\"Confusion Matrix: \\n {confusion_matrix(y_test, pred)}\\n\")"
   ]
  },
  {
   "cell_type": "markdown",
   "metadata": {},
   "source": [
    "# Logistic Regression"
   ]
  },
  {
   "cell_type": "code",
   "execution_count": 32,
   "metadata": {},
   "outputs": [
    {
     "data": {
      "text/plain": [
       "LogisticRegression(max_iter=1000, solver='liblinear')"
      ]
     },
     "execution_count": 32,
     "metadata": {},
     "output_type": "execute_result"
    },
    {
     "name": "stdout",
     "output_type": "stream",
     "text": [
      "Train Result:\n",
      "================================================\n",
      "Accuracy Score: 80.87%\n",
      "_______________________________________________\n",
      "CLASSIFICATION REPORT:\n",
      "                    0           1  accuracy   macro avg  weighted avg\n",
      "precision    0.938776    0.790087  0.808673    0.864431      0.834846\n",
      "recall       0.389831    0.989051  0.808673    0.689441      0.808673\n",
      "f1-score     0.550898    0.878444  0.808673    0.714671      0.779846\n",
      "support    118.000000  274.000000  0.808673  392.000000    392.000000\n",
      "_______________________________________________\n",
      "Confusion Matrix: \n",
      " [[ 46  72]\n",
      " [  3 271]]\n",
      "\n",
      "Test Result:\n",
      "================================================\n",
      "Accuracy Score: 83.84%\n",
      "_______________________________________________\n",
      "CLASSIFICATION REPORT:\n",
      "                   0          1  accuracy  macro avg  weighted avg\n",
      "precision   0.850000   0.835443  0.838384   0.842722      0.839854\n",
      "recall      0.566667   0.956522  0.838384   0.761594      0.838384\n",
      "f1-score    0.680000   0.891892  0.838384   0.785946      0.827682\n",
      "support    30.000000  69.000000  0.838384  99.000000     99.000000\n",
      "_______________________________________________\n",
      "Confusion Matrix: \n",
      " [[17 13]\n",
      " [ 3 66]]\n",
      "\n"
     ]
    }
   ],
   "source": [
    "from sklearn.linear_model import LogisticRegression\n",
    "\n",
    "model_lr = LogisticRegression(max_iter = 1000, solver='liblinear')     # The maximum number of iterations will be 1000. This will help you prevent from convergence warning.\n",
    "model_lr.fit(X_train,y_train)\n",
    "\n",
    "\n",
    "print_score(model_lr, X_train, y_train, X_test, y_test, train=True)\n",
    "print_score(model_lr, X_train, y_train, X_test, y_test, train=False)"
   ]
  },
  {
   "cell_type": "markdown",
   "metadata": {},
   "source": [
    "# KNN"
   ]
  },
  {
   "cell_type": "code",
   "execution_count": 33,
   "metadata": {},
   "outputs": [
    {
     "data": {
      "text/plain": [
       "KNeighborsClassifier()"
      ]
     },
     "execution_count": 33,
     "metadata": {},
     "output_type": "execute_result"
    },
    {
     "name": "stdout",
     "output_type": "stream",
     "text": [
      "Train Result:\n",
      "================================================\n",
      "Accuracy Score: 74.74%\n",
      "_______________________________________________\n",
      "CLASSIFICATION REPORT:\n",
      "                    0           1  accuracy   macro avg  weighted avg\n",
      "precision    0.641791    0.769231  0.747449    0.705511      0.730869\n",
      "recall       0.364407    0.912409  0.747449    0.638408      0.747449\n",
      "f1-score     0.464865    0.834725  0.747449    0.649795      0.723389\n",
      "support    118.000000  274.000000  0.747449  392.000000    392.000000\n",
      "_______________________________________________\n",
      "Confusion Matrix: \n",
      " [[ 43  75]\n",
      " [ 24 250]]\n",
      "\n",
      "Test Result:\n",
      "================================================\n",
      "Accuracy Score: 67.68%\n",
      "_______________________________________________\n",
      "CLASSIFICATION REPORT:\n",
      "                   0          1  accuracy  macro avg  weighted avg\n",
      "precision   0.437500   0.722892  0.676768   0.580196      0.636409\n",
      "recall      0.233333   0.869565  0.676768   0.551449      0.676768\n",
      "f1-score    0.304348   0.789474  0.676768   0.546911      0.642466\n",
      "support    30.000000  69.000000  0.676768  99.000000     99.000000\n",
      "_______________________________________________\n",
      "Confusion Matrix: \n",
      " [[ 7 23]\n",
      " [ 9 60]]\n",
      "\n"
     ]
    }
   ],
   "source": [
    "from sklearn.neighbors import KNeighborsClassifier\n",
    "\n",
    "model_knn = KNeighborsClassifier()\n",
    "model_knn.fit(X_train, y_train)\n",
    "\n",
    "print_score(model_knn, X_train, y_train, X_test, y_test, train=True)\n",
    "print_score(model_knn, X_train, y_train, X_test, y_test, train=False)"
   ]
  },
  {
   "cell_type": "markdown",
   "metadata": {},
   "source": [
    "# SVM"
   ]
  },
  {
   "cell_type": "code",
   "execution_count": 34,
   "metadata": {},
   "outputs": [
    {
     "data": {
      "text/plain": [
       "SVC(gamma=0.1)"
      ]
     },
     "execution_count": 34,
     "metadata": {},
     "output_type": "execute_result"
    },
    {
     "name": "stdout",
     "output_type": "stream",
     "text": [
      "Train Result:\n",
      "================================================\n",
      "Accuracy Score: 100.00%\n",
      "_______________________________________________\n",
      "CLASSIFICATION REPORT:\n",
      "               0      1  accuracy  macro avg  weighted avg\n",
      "precision    1.0    1.0       1.0        1.0           1.0\n",
      "recall       1.0    1.0       1.0        1.0           1.0\n",
      "f1-score     1.0    1.0       1.0        1.0           1.0\n",
      "support    118.0  274.0       1.0      392.0         392.0\n",
      "_______________________________________________\n",
      "Confusion Matrix: \n",
      " [[118   0]\n",
      " [  0 274]]\n",
      "\n",
      "Test Result:\n",
      "================================================\n",
      "Accuracy Score: 69.70%\n",
      "_______________________________________________\n",
      "CLASSIFICATION REPORT:\n",
      "              0          1  accuracy  macro avg  weighted avg\n",
      "precision   0.0   0.696970   0.69697   0.348485      0.485767\n",
      "recall      0.0   1.000000   0.69697   0.500000      0.696970\n",
      "f1-score    0.0   0.821429   0.69697   0.410714      0.572511\n",
      "support    30.0  69.000000   0.69697  99.000000     99.000000\n",
      "_______________________________________________\n",
      "Confusion Matrix: \n",
      " [[ 0 30]\n",
      " [ 0 69]]\n",
      "\n"
     ]
    },
    {
     "name": "stderr",
     "output_type": "stream",
     "text": [
      "C:\\Users\\Kinjal\\anaconda3\\lib\\site-packages\\sklearn\\metrics\\_classification.py:1221: UndefinedMetricWarning: Precision and F-score are ill-defined and being set to 0.0 in labels with no predicted samples. Use `zero_division` parameter to control this behavior.\n",
      "  _warn_prf(average, modifier, msg_start, len(result))\n"
     ]
    }
   ],
   "source": [
    "from sklearn.svm import SVC\n",
    "\n",
    "\n",
    "model_svm = SVC(kernel='rbf', gamma=0.1, C=1.0)\n",
    "model_svm.fit(X_train, y_train)\n",
    "\n",
    "print_score(model_svm, X_train, y_train, X_test, y_test, train=True)\n",
    "print_score(model_svm, X_train, y_train, X_test, y_test, train=False)"
   ]
  },
  {
   "cell_type": "markdown",
   "metadata": {},
   "source": [
    "# Decision Tree"
   ]
  },
  {
   "cell_type": "code",
   "execution_count": 35,
   "metadata": {},
   "outputs": [
    {
     "data": {
      "text/plain": [
       "DecisionTreeClassifier(random_state=42)"
      ]
     },
     "execution_count": 35,
     "metadata": {},
     "output_type": "execute_result"
    },
    {
     "name": "stdout",
     "output_type": "stream",
     "text": [
      "Train Result:\n",
      "================================================\n",
      "Accuracy Score: 100.00%\n",
      "_______________________________________________\n",
      "CLASSIFICATION REPORT:\n",
      "               0      1  accuracy  macro avg  weighted avg\n",
      "precision    1.0    1.0       1.0        1.0           1.0\n",
      "recall       1.0    1.0       1.0        1.0           1.0\n",
      "f1-score     1.0    1.0       1.0        1.0           1.0\n",
      "support    118.0  274.0       1.0      392.0         392.0\n",
      "_______________________________________________\n",
      "Confusion Matrix: \n",
      " [[118   0]\n",
      " [  0 274]]\n",
      "\n",
      "Test Result:\n",
      "================================================\n",
      "Accuracy Score: 73.74%\n",
      "_______________________________________________\n",
      "CLASSIFICATION REPORT:\n",
      "                   0          1  accuracy  macro avg  weighted avg\n",
      "precision   0.545455   0.890909  0.737374   0.718182      0.786226\n",
      "recall      0.800000   0.710145  0.737374   0.755072      0.737374\n",
      "f1-score    0.648649   0.790323  0.737374   0.719486      0.747391\n",
      "support    30.000000  69.000000  0.737374  99.000000     99.000000\n",
      "_______________________________________________\n",
      "Confusion Matrix: \n",
      " [[24  6]\n",
      " [20 49]]\n",
      "\n"
     ]
    }
   ],
   "source": [
    "from sklearn.tree import DecisionTreeClassifier\n",
    "\n",
    "\n",
    "model_dt = DecisionTreeClassifier(random_state=42)\n",
    "model_dt.fit(X_train, y_train)\n",
    "\n",
    "print_score(model_dt, X_train, y_train, X_test, y_test, train=True)\n",
    "print_score(model_dt, X_train, y_train, X_test, y_test, train=False)"
   ]
  },
  {
   "cell_type": "markdown",
   "metadata": {},
   "source": [
    "# Random Forest"
   ]
  },
  {
   "cell_type": "code",
   "execution_count": 36,
   "metadata": {},
   "outputs": [
    {
     "data": {
      "text/plain": [
       "RandomForestClassifier(n_estimators=1000, random_state=42)"
      ]
     },
     "execution_count": 36,
     "metadata": {},
     "output_type": "execute_result"
    },
    {
     "name": "stdout",
     "output_type": "stream",
     "text": [
      "Train Result:\n",
      "================================================\n",
      "Accuracy Score: 100.00%\n",
      "_______________________________________________\n",
      "CLASSIFICATION REPORT:\n",
      "               0      1  accuracy  macro avg  weighted avg\n",
      "precision    1.0    1.0       1.0        1.0           1.0\n",
      "recall       1.0    1.0       1.0        1.0           1.0\n",
      "f1-score     1.0    1.0       1.0        1.0           1.0\n",
      "support    118.0  274.0       1.0      392.0         392.0\n",
      "_______________________________________________\n",
      "Confusion Matrix: \n",
      " [[118   0]\n",
      " [  0 274]]\n",
      "\n",
      "Test Result:\n",
      "================================================\n",
      "Accuracy Score: 80.81%\n",
      "_______________________________________________\n",
      "CLASSIFICATION REPORT:\n",
      "                   0          1  accuracy  macro avg  weighted avg\n",
      "precision   0.739130   0.828947  0.808081   0.784039      0.801730\n",
      "recall      0.566667   0.913043  0.808081   0.739855      0.808081\n",
      "f1-score    0.641509   0.868966  0.808081   0.755237      0.800039\n",
      "support    30.000000  69.000000  0.808081  99.000000     99.000000\n",
      "_______________________________________________\n",
      "Confusion Matrix: \n",
      " [[17 13]\n",
      " [ 6 63]]\n",
      "\n"
     ]
    }
   ],
   "source": [
    "from sklearn.ensemble import RandomForestClassifier\n",
    "from sklearn.model_selection import RandomizedSearchCV\n",
    "\n",
    "model_rf = RandomForestClassifier(n_estimators=1000, random_state=42)\n",
    "model_rf.fit(X_train, y_train)\n",
    "\n",
    "print_score(model_rf, X_train, y_train, X_test, y_test, train=True)\n",
    "print_score(model_rf, X_train, y_train, X_test, y_test, train=False)"
   ]
  },
  {
   "cell_type": "markdown",
   "metadata": {},
   "source": [
    "# Xg Boost"
   ]
  },
  {
   "cell_type": "code",
   "execution_count": 37,
   "metadata": {},
   "outputs": [
    {
     "name": "stderr",
     "output_type": "stream",
     "text": [
      "C:\\Users\\Kinjal\\anaconda3\\lib\\site-packages\\xgboost\\sklearn.py:888: UserWarning: The use of label encoder in XGBClassifier is deprecated and will be removed in a future release. To remove this warning, do the following: 1) Pass option use_label_encoder=False when constructing XGBClassifier object; and 2) Encode your labels (y) as integers starting with 0, i.e. 0, 1, 2, ..., [num_class - 1].\n",
      "  warnings.warn(label_encoder_deprecation_msg, UserWarning)\n"
     ]
    },
    {
     "name": "stdout",
     "output_type": "stream",
     "text": [
      "[15:04:06] WARNING: C:/Users/Administrator/workspace/xgboost-win64_release_1.3.0/src/learner.cc:1061: Starting in XGBoost 1.3.0, the default evaluation metric used with the objective 'binary:logistic' was changed from 'error' to 'logloss'. Explicitly set eval_metric if you'd like to restore the old behavior.\n"
     ]
    },
    {
     "data": {
      "text/plain": [
       "XGBClassifier(base_score=0.5, booster='gbtree', colsample_bylevel=1,\n",
       "              colsample_bynode=1, colsample_bytree=1, gamma=0, gpu_id=-1,\n",
       "              importance_type='gain', interaction_constraints='',\n",
       "              learning_rate=0.300000012, max_delta_step=0, max_depth=6,\n",
       "              min_child_weight=1, missing=nan, monotone_constraints='()',\n",
       "              n_estimators=100, n_jobs=8, num_parallel_tree=1, random_state=0,\n",
       "              reg_alpha=0, reg_lambda=1, scale_pos_weight=1, subsample=1,\n",
       "              tree_method='exact', validate_parameters=1, verbosity=None)"
      ]
     },
     "execution_count": 37,
     "metadata": {},
     "output_type": "execute_result"
    },
    {
     "name": "stdout",
     "output_type": "stream",
     "text": [
      "Train Result:\n",
      "================================================\n",
      "Accuracy Score: 100.00%\n",
      "_______________________________________________\n",
      "CLASSIFICATION REPORT:\n",
      "               0      1  accuracy  macro avg  weighted avg\n",
      "precision    1.0    1.0       1.0        1.0           1.0\n",
      "recall       1.0    1.0       1.0        1.0           1.0\n",
      "f1-score     1.0    1.0       1.0        1.0           1.0\n",
      "support    118.0  274.0       1.0      392.0         392.0\n",
      "_______________________________________________\n",
      "Confusion Matrix: \n",
      " [[118   0]\n",
      " [  0 274]]\n",
      "\n",
      "Test Result:\n",
      "================================================\n",
      "Accuracy Score: 78.79%\n",
      "_______________________________________________\n",
      "CLASSIFICATION REPORT:\n",
      "                   0          1  accuracy  macro avg  weighted avg\n",
      "precision   0.636364   0.863636  0.787879   0.750000      0.794766\n",
      "recall      0.700000   0.826087  0.787879   0.763043      0.787879\n",
      "f1-score    0.666667   0.844444  0.787879   0.755556      0.790572\n",
      "support    30.000000  69.000000  0.787879  99.000000     99.000000\n",
      "_______________________________________________\n",
      "Confusion Matrix: \n",
      " [[21  9]\n",
      " [12 57]]\n",
      "\n"
     ]
    }
   ],
   "source": [
    "from xgboost import XGBClassifier\n",
    "\n",
    "model_xg = XGBClassifier()\n",
    "model_xg.fit(X_train, y_train)\n",
    "\n",
    "print_score(model_xg, X_train, y_train, X_test, y_test, train=True)\n",
    "print_score(model_xg, X_train, y_train, X_test, y_test, train=False)"
   ]
  },
  {
   "cell_type": "code",
   "execution_count": 38,
   "metadata": {},
   "outputs": [
    {
     "data": {
      "text/html": [
       "<div>\n",
       "<style scoped>\n",
       "    .dataframe tbody tr th:only-of-type {\n",
       "        vertical-align: middle;\n",
       "    }\n",
       "\n",
       "    .dataframe tbody tr th {\n",
       "        vertical-align: top;\n",
       "    }\n",
       "\n",
       "    .dataframe thead th {\n",
       "        text-align: right;\n",
       "    }\n",
       "</style>\n",
       "<table border=\"1\" class=\"dataframe\">\n",
       "  <thead>\n",
       "    <tr style=\"text-align: right;\">\n",
       "      <th></th>\n",
       "      <th>ApplicantIncome</th>\n",
       "      <th>CoapplicantIncome</th>\n",
       "      <th>LoanAmount</th>\n",
       "      <th>Gender_Female</th>\n",
       "      <th>Gender_Male</th>\n",
       "      <th>Married_No</th>\n",
       "      <th>Married_Yes</th>\n",
       "      <th>Dependents_0</th>\n",
       "      <th>Dependents_1</th>\n",
       "      <th>Dependents_2</th>\n",
       "      <th>...</th>\n",
       "      <th>Loan_Amount_Term_180.0</th>\n",
       "      <th>Loan_Amount_Term_240.0</th>\n",
       "      <th>Loan_Amount_Term_300.0</th>\n",
       "      <th>Loan_Amount_Term_360.0</th>\n",
       "      <th>Loan_Amount_Term_480.0</th>\n",
       "      <th>Credit_History_0.0</th>\n",
       "      <th>Credit_History_1.0</th>\n",
       "      <th>Property_Area_Rural</th>\n",
       "      <th>Property_Area_Semiurban</th>\n",
       "      <th>Property_Area_Urban</th>\n",
       "    </tr>\n",
       "  </thead>\n",
       "  <tbody>\n",
       "    <tr>\n",
       "      <th>0</th>\n",
       "      <td>4547</td>\n",
       "      <td>0.0</td>\n",
       "      <td>115.0</td>\n",
       "      <td>1</td>\n",
       "      <td>0</td>\n",
       "      <td>1</td>\n",
       "      <td>0</td>\n",
       "      <td>1</td>\n",
       "      <td>0</td>\n",
       "      <td>0</td>\n",
       "      <td>...</td>\n",
       "      <td>0</td>\n",
       "      <td>0</td>\n",
       "      <td>0</td>\n",
       "      <td>1</td>\n",
       "      <td>0</td>\n",
       "      <td>0</td>\n",
       "      <td>1</td>\n",
       "      <td>0</td>\n",
       "      <td>1</td>\n",
       "      <td>0</td>\n",
       "    </tr>\n",
       "    <tr>\n",
       "      <th>1</th>\n",
       "      <td>5703</td>\n",
       "      <td>0.0</td>\n",
       "      <td>130.0</td>\n",
       "      <td>0</td>\n",
       "      <td>1</td>\n",
       "      <td>0</td>\n",
       "      <td>1</td>\n",
       "      <td>0</td>\n",
       "      <td>0</td>\n",
       "      <td>0</td>\n",
       "      <td>...</td>\n",
       "      <td>0</td>\n",
       "      <td>0</td>\n",
       "      <td>0</td>\n",
       "      <td>1</td>\n",
       "      <td>0</td>\n",
       "      <td>0</td>\n",
       "      <td>1</td>\n",
       "      <td>1</td>\n",
       "      <td>0</td>\n",
       "      <td>0</td>\n",
       "    </tr>\n",
       "    <tr>\n",
       "      <th>2</th>\n",
       "      <td>4333</td>\n",
       "      <td>2451.0</td>\n",
       "      <td>110.0</td>\n",
       "      <td>1</td>\n",
       "      <td>0</td>\n",
       "      <td>0</td>\n",
       "      <td>1</td>\n",
       "      <td>1</td>\n",
       "      <td>0</td>\n",
       "      <td>0</td>\n",
       "      <td>...</td>\n",
       "      <td>0</td>\n",
       "      <td>0</td>\n",
       "      <td>0</td>\n",
       "      <td>1</td>\n",
       "      <td>0</td>\n",
       "      <td>0</td>\n",
       "      <td>1</td>\n",
       "      <td>0</td>\n",
       "      <td>0</td>\n",
       "      <td>1</td>\n",
       "    </tr>\n",
       "    <tr>\n",
       "      <th>3</th>\n",
       "      <td>4695</td>\n",
       "      <td>0.0</td>\n",
       "      <td>96.0</td>\n",
       "      <td>0</td>\n",
       "      <td>1</td>\n",
       "      <td>0</td>\n",
       "      <td>1</td>\n",
       "      <td>1</td>\n",
       "      <td>0</td>\n",
       "      <td>0</td>\n",
       "      <td>...</td>\n",
       "      <td>0</td>\n",
       "      <td>0</td>\n",
       "      <td>0</td>\n",
       "      <td>1</td>\n",
       "      <td>0</td>\n",
       "      <td>0</td>\n",
       "      <td>1</td>\n",
       "      <td>0</td>\n",
       "      <td>0</td>\n",
       "      <td>1</td>\n",
       "    </tr>\n",
       "    <tr>\n",
       "      <th>4</th>\n",
       "      <td>6700</td>\n",
       "      <td>1750.0</td>\n",
       "      <td>230.0</td>\n",
       "      <td>0</td>\n",
       "      <td>1</td>\n",
       "      <td>0</td>\n",
       "      <td>1</td>\n",
       "      <td>0</td>\n",
       "      <td>0</td>\n",
       "      <td>1</td>\n",
       "      <td>...</td>\n",
       "      <td>0</td>\n",
       "      <td>0</td>\n",
       "      <td>1</td>\n",
       "      <td>0</td>\n",
       "      <td>0</td>\n",
       "      <td>0</td>\n",
       "      <td>1</td>\n",
       "      <td>0</td>\n",
       "      <td>1</td>\n",
       "      <td>0</td>\n",
       "    </tr>\n",
       "  </tbody>\n",
       "</table>\n",
       "<p>5 rows × 30 columns</p>\n",
       "</div>"
      ],
      "text/plain": [
       "   ApplicantIncome  CoapplicantIncome  LoanAmount  Gender_Female  Gender_Male  \\\n",
       "0             4547                0.0       115.0              1            0   \n",
       "1             5703                0.0       130.0              0            1   \n",
       "2             4333             2451.0       110.0              1            0   \n",
       "3             4695                0.0        96.0              0            1   \n",
       "4             6700             1750.0       230.0              0            1   \n",
       "\n",
       "   Married_No  Married_Yes  Dependents_0  Dependents_1  Dependents_2  ...  \\\n",
       "0           1            0             1             0             0  ...   \n",
       "1           0            1             0             0             0  ...   \n",
       "2           0            1             1             0             0  ...   \n",
       "3           0            1             1             0             0  ...   \n",
       "4           0            1             0             0             1  ...   \n",
       "\n",
       "   Loan_Amount_Term_180.0  Loan_Amount_Term_240.0  Loan_Amount_Term_300.0  \\\n",
       "0                       0                       0                       0   \n",
       "1                       0                       0                       0   \n",
       "2                       0                       0                       0   \n",
       "3                       0                       0                       0   \n",
       "4                       0                       0                       1   \n",
       "\n",
       "   Loan_Amount_Term_360.0  Loan_Amount_Term_480.0  Credit_History_0.0  \\\n",
       "0                       1                       0                   0   \n",
       "1                       1                       0                   0   \n",
       "2                       1                       0                   0   \n",
       "3                       1                       0                   0   \n",
       "4                       0                       0                   0   \n",
       "\n",
       "   Credit_History_1.0  Property_Area_Rural  Property_Area_Semiurban  \\\n",
       "0                   1                    0                        1   \n",
       "1                   1                    1                        0   \n",
       "2                   1                    0                        0   \n",
       "3                   1                    0                        0   \n",
       "4                   1                    0                        1   \n",
       "\n",
       "   Property_Area_Urban  \n",
       "0                    0  \n",
       "1                    0  \n",
       "2                    1  \n",
       "3                    1  \n",
       "4                    0  \n",
       "\n",
       "[5 rows x 30 columns]"
      ]
     },
     "execution_count": 38,
     "metadata": {},
     "output_type": "execute_result"
    }
   ],
   "source": [
    "X.head()"
   ]
  },
  {
   "cell_type": "markdown",
   "metadata": {},
   "source": [
    "# Model Deploying Steps"
   ]
  },
  {
   "cell_type": "code",
   "execution_count": 39,
   "metadata": {},
   "outputs": [
    {
     "data": {
      "text/plain": [
       "Index(['ApplicantIncome', 'CoapplicantIncome', 'LoanAmount', 'Gender_Female',\n",
       "       'Gender_Male', 'Married_No', 'Married_Yes', 'Dependents_0',\n",
       "       'Dependents_1', 'Dependents_2', 'Dependents_3+', 'Education_Graduate',\n",
       "       'Education_Not Graduate', 'Self_Employed_No', 'Self_Employed_Yes',\n",
       "       'Loan_Amount_Term_12.0', 'Loan_Amount_Term_36.0',\n",
       "       'Loan_Amount_Term_60.0', 'Loan_Amount_Term_84.0',\n",
       "       'Loan_Amount_Term_120.0', 'Loan_Amount_Term_180.0',\n",
       "       'Loan_Amount_Term_240.0', 'Loan_Amount_Term_300.0',\n",
       "       'Loan_Amount_Term_360.0', 'Loan_Amount_Term_480.0',\n",
       "       'Credit_History_0.0', 'Credit_History_1.0', 'Property_Area_Rural',\n",
       "       'Property_Area_Semiurban', 'Property_Area_Urban'],\n",
       "      dtype='object')"
      ]
     },
     "execution_count": 39,
     "metadata": {},
     "output_type": "execute_result"
    }
   ],
   "source": [
    "X.columns"
   ]
  },
  {
   "cell_type": "code",
   "execution_count": 40,
   "metadata": {},
   "outputs": [],
   "source": [
    "def predict_loan_status(applicantincome,coapincome,loanamt,gender,married,dependents,edu,emp,loanterm,credhist,propertyarea):    \n",
    "    loc_index1 = np.where(X.columns==gender)[0][0]\n",
    "    loc_index2 = np.where(X.columns==dependents)[0][0]\n",
    "    loc_index3 = np.where(X.columns==loanterm)[0][0]\n",
    "    loc_index4 = np.where(X.columns==credhist)[0][0]\n",
    "    loc_index5 = np.where(X.columns==propertyarea)[0][0]\n",
    "    loc_index6 = np.where(X.columns==married)[0][0]\n",
    "    loc_index7 = np.where(X.columns==edu)[0][0]\n",
    "    loc_index8 = np.where(X.columns==emp)[0][0]\n",
    "\n",
    "    x = np.zeros(len(X.columns))\n",
    "    x[0] = applicantincome\n",
    "    x[1] = coapincome\n",
    "    x[2] = loanamt\n",
    "    \n",
    "    if loc_index1 >= 0:\n",
    "        x[loc_index1] = 1\n",
    "        \n",
    "    if loc_index2 >= 0:\n",
    "        x[loc_index2] = 1\n",
    "        \n",
    "    if loc_index3 >= 0:\n",
    "        x[loc_index3] = 1\n",
    "        \n",
    "    if loc_index4 >= 0:\n",
    "        x[loc_index4] = 1\n",
    "        \n",
    "    if loc_index5 >= 0:\n",
    "        x[loc_index5] = 1\n",
    "        \n",
    "    if loc_index6 >= 0:\n",
    "        x[loc_index6] = 1\n",
    "    return  model_lr.predict([x])[0]\n",
    "\n",
    "    if loc_index7 >= 0:\n",
    "        x[loc_index7] = 1\n",
    "        \n",
    "    if loc_index8 >= 0:\n",
    "        x[loc_index8] = 1\n",
    "        \n",
    "    return  model_lr.predict([x])[0]\n",
    "\n",
    "    #loan_status1 =  model_lr.predict([x])[0]\n",
    "    #if loan_status1 == 1:\n",
    "    #    return \"Congratulations Your loan is granted!!\"\n",
    "    #else:\n",
    "     #   return \"Sorry your loan is denied.\"\n",
    "    "
   ]
  },
  {
   "cell_type": "code",
   "execution_count": 41,
   "metadata": {},
   "outputs": [
    {
     "data": {
      "text/html": [
       "<div>\n",
       "<style scoped>\n",
       "    .dataframe tbody tr th:only-of-type {\n",
       "        vertical-align: middle;\n",
       "    }\n",
       "\n",
       "    .dataframe tbody tr th {\n",
       "        vertical-align: top;\n",
       "    }\n",
       "\n",
       "    .dataframe thead th {\n",
       "        text-align: right;\n",
       "    }\n",
       "</style>\n",
       "<table border=\"1\" class=\"dataframe\">\n",
       "  <thead>\n",
       "    <tr style=\"text-align: right;\">\n",
       "      <th></th>\n",
       "      <th>ApplicantIncome</th>\n",
       "      <th>CoapplicantIncome</th>\n",
       "      <th>LoanAmount</th>\n",
       "      <th>Gender_Female</th>\n",
       "      <th>Gender_Male</th>\n",
       "      <th>Married_No</th>\n",
       "      <th>Married_Yes</th>\n",
       "      <th>Dependents_0</th>\n",
       "      <th>Dependents_1</th>\n",
       "      <th>Dependents_2</th>\n",
       "      <th>...</th>\n",
       "      <th>Loan_Amount_Term_180.0</th>\n",
       "      <th>Loan_Amount_Term_240.0</th>\n",
       "      <th>Loan_Amount_Term_300.0</th>\n",
       "      <th>Loan_Amount_Term_360.0</th>\n",
       "      <th>Loan_Amount_Term_480.0</th>\n",
       "      <th>Credit_History_0.0</th>\n",
       "      <th>Credit_History_1.0</th>\n",
       "      <th>Property_Area_Rural</th>\n",
       "      <th>Property_Area_Semiurban</th>\n",
       "      <th>Property_Area_Urban</th>\n",
       "    </tr>\n",
       "  </thead>\n",
       "  <tbody>\n",
       "    <tr>\n",
       "      <th>0</th>\n",
       "      <td>4547</td>\n",
       "      <td>0.0</td>\n",
       "      <td>115.0</td>\n",
       "      <td>1</td>\n",
       "      <td>0</td>\n",
       "      <td>1</td>\n",
       "      <td>0</td>\n",
       "      <td>1</td>\n",
       "      <td>0</td>\n",
       "      <td>0</td>\n",
       "      <td>...</td>\n",
       "      <td>0</td>\n",
       "      <td>0</td>\n",
       "      <td>0</td>\n",
       "      <td>1</td>\n",
       "      <td>0</td>\n",
       "      <td>0</td>\n",
       "      <td>1</td>\n",
       "      <td>0</td>\n",
       "      <td>1</td>\n",
       "      <td>0</td>\n",
       "    </tr>\n",
       "    <tr>\n",
       "      <th>1</th>\n",
       "      <td>5703</td>\n",
       "      <td>0.0</td>\n",
       "      <td>130.0</td>\n",
       "      <td>0</td>\n",
       "      <td>1</td>\n",
       "      <td>0</td>\n",
       "      <td>1</td>\n",
       "      <td>0</td>\n",
       "      <td>0</td>\n",
       "      <td>0</td>\n",
       "      <td>...</td>\n",
       "      <td>0</td>\n",
       "      <td>0</td>\n",
       "      <td>0</td>\n",
       "      <td>1</td>\n",
       "      <td>0</td>\n",
       "      <td>0</td>\n",
       "      <td>1</td>\n",
       "      <td>1</td>\n",
       "      <td>0</td>\n",
       "      <td>0</td>\n",
       "    </tr>\n",
       "    <tr>\n",
       "      <th>2</th>\n",
       "      <td>4333</td>\n",
       "      <td>2451.0</td>\n",
       "      <td>110.0</td>\n",
       "      <td>1</td>\n",
       "      <td>0</td>\n",
       "      <td>0</td>\n",
       "      <td>1</td>\n",
       "      <td>1</td>\n",
       "      <td>0</td>\n",
       "      <td>0</td>\n",
       "      <td>...</td>\n",
       "      <td>0</td>\n",
       "      <td>0</td>\n",
       "      <td>0</td>\n",
       "      <td>1</td>\n",
       "      <td>0</td>\n",
       "      <td>0</td>\n",
       "      <td>1</td>\n",
       "      <td>0</td>\n",
       "      <td>0</td>\n",
       "      <td>1</td>\n",
       "    </tr>\n",
       "    <tr>\n",
       "      <th>3</th>\n",
       "      <td>4695</td>\n",
       "      <td>0.0</td>\n",
       "      <td>96.0</td>\n",
       "      <td>0</td>\n",
       "      <td>1</td>\n",
       "      <td>0</td>\n",
       "      <td>1</td>\n",
       "      <td>1</td>\n",
       "      <td>0</td>\n",
       "      <td>0</td>\n",
       "      <td>...</td>\n",
       "      <td>0</td>\n",
       "      <td>0</td>\n",
       "      <td>0</td>\n",
       "      <td>1</td>\n",
       "      <td>0</td>\n",
       "      <td>0</td>\n",
       "      <td>1</td>\n",
       "      <td>0</td>\n",
       "      <td>0</td>\n",
       "      <td>1</td>\n",
       "    </tr>\n",
       "    <tr>\n",
       "      <th>4</th>\n",
       "      <td>6700</td>\n",
       "      <td>1750.0</td>\n",
       "      <td>230.0</td>\n",
       "      <td>0</td>\n",
       "      <td>1</td>\n",
       "      <td>0</td>\n",
       "      <td>1</td>\n",
       "      <td>0</td>\n",
       "      <td>0</td>\n",
       "      <td>1</td>\n",
       "      <td>...</td>\n",
       "      <td>0</td>\n",
       "      <td>0</td>\n",
       "      <td>1</td>\n",
       "      <td>0</td>\n",
       "      <td>0</td>\n",
       "      <td>0</td>\n",
       "      <td>1</td>\n",
       "      <td>0</td>\n",
       "      <td>1</td>\n",
       "      <td>0</td>\n",
       "    </tr>\n",
       "  </tbody>\n",
       "</table>\n",
       "<p>5 rows × 30 columns</p>\n",
       "</div>"
      ],
      "text/plain": [
       "   ApplicantIncome  CoapplicantIncome  LoanAmount  Gender_Female  Gender_Male  \\\n",
       "0             4547                0.0       115.0              1            0   \n",
       "1             5703                0.0       130.0              0            1   \n",
       "2             4333             2451.0       110.0              1            0   \n",
       "3             4695                0.0        96.0              0            1   \n",
       "4             6700             1750.0       230.0              0            1   \n",
       "\n",
       "   Married_No  Married_Yes  Dependents_0  Dependents_1  Dependents_2  ...  \\\n",
       "0           1            0             1             0             0  ...   \n",
       "1           0            1             0             0             0  ...   \n",
       "2           0            1             1             0             0  ...   \n",
       "3           0            1             1             0             0  ...   \n",
       "4           0            1             0             0             1  ...   \n",
       "\n",
       "   Loan_Amount_Term_180.0  Loan_Amount_Term_240.0  Loan_Amount_Term_300.0  \\\n",
       "0                       0                       0                       0   \n",
       "1                       0                       0                       0   \n",
       "2                       0                       0                       0   \n",
       "3                       0                       0                       0   \n",
       "4                       0                       0                       1   \n",
       "\n",
       "   Loan_Amount_Term_360.0  Loan_Amount_Term_480.0  Credit_History_0.0  \\\n",
       "0                       1                       0                   0   \n",
       "1                       1                       0                   0   \n",
       "2                       1                       0                   0   \n",
       "3                       1                       0                   0   \n",
       "4                       0                       0                   0   \n",
       "\n",
       "   Credit_History_1.0  Property_Area_Rural  Property_Area_Semiurban  \\\n",
       "0                   1                    0                        1   \n",
       "1                   1                    1                        0   \n",
       "2                   1                    0                        0   \n",
       "3                   1                    0                        0   \n",
       "4                   1                    0                        1   \n",
       "\n",
       "   Property_Area_Urban  \n",
       "0                    0  \n",
       "1                    0  \n",
       "2                    1  \n",
       "3                    1  \n",
       "4                    0  \n",
       "\n",
       "[5 rows x 30 columns]"
      ]
     },
     "execution_count": 41,
     "metadata": {},
     "output_type": "execute_result"
    }
   ],
   "source": [
    "X.head()"
   ]
  },
  {
   "cell_type": "code",
   "execution_count": 42,
   "metadata": {},
   "outputs": [
    {
     "data": {
      "text/plain": [
       "Index(['ApplicantIncome', 'CoapplicantIncome', 'LoanAmount', 'Gender_Female',\n",
       "       'Gender_Male', 'Married_No', 'Married_Yes', 'Dependents_0',\n",
       "       'Dependents_1', 'Dependents_2', 'Dependents_3+', 'Education_Graduate',\n",
       "       'Education_Not Graduate', 'Self_Employed_No', 'Self_Employed_Yes',\n",
       "       'Loan_Amount_Term_12.0', 'Loan_Amount_Term_36.0',\n",
       "       'Loan_Amount_Term_60.0', 'Loan_Amount_Term_84.0',\n",
       "       'Loan_Amount_Term_120.0', 'Loan_Amount_Term_180.0',\n",
       "       'Loan_Amount_Term_240.0', 'Loan_Amount_Term_300.0',\n",
       "       'Loan_Amount_Term_360.0', 'Loan_Amount_Term_480.0',\n",
       "       'Credit_History_0.0', 'Credit_History_1.0', 'Property_Area_Rural',\n",
       "       'Property_Area_Semiurban', 'Property_Area_Urban'],\n",
       "      dtype='object')"
      ]
     },
     "execution_count": 42,
     "metadata": {},
     "output_type": "execute_result"
    }
   ],
   "source": [
    "X.columns"
   ]
  },
  {
   "cell_type": "code",
   "execution_count": 43,
   "metadata": {},
   "outputs": [
    {
     "data": {
      "text/plain": [
       "0      1\n",
       "1      1\n",
       "2      1\n",
       "3      1\n",
       "4      0\n",
       "      ..\n",
       "486    0\n",
       "487    1\n",
       "488    0\n",
       "489    1\n",
       "490    1\n",
       "Name: Loan_Amount_Term_360.0, Length: 491, dtype: uint8"
      ]
     },
     "execution_count": 43,
     "metadata": {},
     "output_type": "execute_result"
    }
   ],
   "source": [
    "X['Loan_Amount_Term_360.0']"
   ]
  },
  {
   "cell_type": "code",
   "execution_count": 44,
   "metadata": {},
   "outputs": [
    {
     "data": {
      "text/plain": [
       "1"
      ]
     },
     "execution_count": 44,
     "metadata": {},
     "output_type": "execute_result"
    }
   ],
   "source": [
    "#applicantincome,coapincome,loanamt,gender,married,dependents,edu,emp,loanterm,credhist,propertyarea\n",
    "predict_loan_status(4547,0.0,115.0,\"Gender_Female\",\"Married_No\",\"Dependents_0\",\"Education_Graduate\",\"Self_Employed_No\",\"Loan_Amount_Term_360.0\",\"Credit_History_1.0\",\"Property_Area_Semiurban\")\n",
    "#predict_price('1st Phase JP Nagar',1000, 2, 2)"
   ]
  },
  {
   "cell_type": "code",
   "execution_count": 45,
   "metadata": {},
   "outputs": [],
   "source": [
    "import pickle\n",
    "with open('loan_prediction_model.pickle','wb') as f:\n",
    "    pickle.dump(model_lr,f)\n"
   ]
  },
  {
   "cell_type": "code",
   "execution_count": 46,
   "metadata": {},
   "outputs": [
    {
     "data": {
      "text/plain": [
       "660"
      ]
     },
     "execution_count": 46,
     "metadata": {},
     "output_type": "execute_result"
    }
   ],
   "source": [
    "import json\n",
    "columns = {\n",
    "    'data_columns' : [col.lower() for col in X.columns]\n",
    "}\n",
    "with open(\"columns.json\",\"w\") as f:\n",
    "    f.write(json.dumps(columns))"
   ]
  },
  {
   "cell_type": "code",
   "execution_count": null,
   "metadata": {},
   "outputs": [],
   "source": []
  }
 ],
 "metadata": {
  "kernelspec": {
   "display_name": "Python 3",
   "language": "python",
   "name": "python3"
  },
  "language_info": {
   "codemirror_mode": {
    "name": "ipython",
    "version": 3
   },
   "file_extension": ".py",
   "mimetype": "text/x-python",
   "name": "python",
   "nbconvert_exporter": "python",
   "pygments_lexer": "ipython3",
   "version": "3.7.6"
  }
 },
 "nbformat": 4,
 "nbformat_minor": 4
}
